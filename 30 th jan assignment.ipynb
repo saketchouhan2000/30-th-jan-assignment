{
 "cells": [
  {
   "cell_type": "code",
   "execution_count": 1,
   "id": "37edb1dd-a3c1-4962-8d4d-548fbb1f09c4",
   "metadata": {},
   "outputs": [],
   "source": [
    "#Q =1 Write a programme to accept percentage from the user and display the grade accourding to the following\n",
    "# criteria\n",
    "# i am writing the answer without writing full question"
   ]
  },
  {
   "cell_type": "code",
   "execution_count": 7,
   "id": "37ec370b-5000-4f8e-bc4f-3ab988253279",
   "metadata": {},
   "outputs": [
    {
     "name": "stdin",
     "output_type": "stream",
     "text": [
      "enter the marks 75\n"
     ]
    },
    {
     "name": "stdout",
     "output_type": "stream",
     "text": [
      "C\n"
     ]
    }
   ],
   "source": [
    "# Ans\n",
    "marks=int(input(\"enter the marks\"))\n",
    "if marks >90 :\n",
    "    print(\"A\")\n",
    "elif marks >80 and marks<=90:\n",
    "    print(\"B\")\n",
    "elif marks >=60 and marks<=80:\n",
    "    print(\"C\")\n",
    "else :\n",
    "    print(\"D\")"
   ]
  },
  {
   "cell_type": "code",
   "execution_count": 6,
   "id": "a8ea2840-52e6-4d81-955d-2787b0a29e48",
   "metadata": {},
   "outputs": [],
   "source": [
    "#Q=2 Write a programme to accept the cost price of a bike and display the road tax to be paid according \n",
    "# to the following criteria\n",
    "# i am writing the answer without writing full question"
   ]
  },
  {
   "cell_type": "code",
   "execution_count": 19,
   "id": "fe6651dc-cb87-4d3c-9c4a-35bdf2879780",
   "metadata": {},
   "outputs": [
    {
     "name": "stdin",
     "output_type": "stream",
     "text": [
      "enter the cost price 1200000\n"
     ]
    },
    {
     "name": "stdout",
     "output_type": "stream",
     "text": [
      "180000.0\n"
     ]
    }
   ],
   "source": [
    "# Ans\n",
    "costprice=int(input(\"enter the cost price\"))\n",
    "if costprice >1000000:\n",
    "    print( costprice*15/100)\n",
    "elif costprice >50000 and costprice <=100000:\n",
    "    print(costprice*10/100)\n",
    "else:\n",
    "    print(costprice*5/100)"
   ]
  },
  {
   "cell_type": "code",
   "execution_count": 10,
   "id": "3a455407-0c61-4a34-8391-c7b35e777674",
   "metadata": {},
   "outputs": [],
   "source": [
    "#Q=3 Accept any city from the user and display monuments of that city.\n",
    "# i am writing the answer without writing full question"
   ]
  },
  {
   "cell_type": "code",
   "execution_count": 9,
   "id": "9edd47c5-0c4b-4491-aefc-2253f70602e5",
   "metadata": {},
   "outputs": [
    {
     "name": "stdin",
     "output_type": "stream",
     "text": [
      "enter the city Jaipur\n"
     ]
    },
    {
     "name": "stdout",
     "output_type": "stream",
     "text": [
      "Jal Mahal\n"
     ]
    }
   ],
   "source": [
    "# Ans\n",
    "city=input(\"enter the city\")\n",
    "if city == \"Delhi\":\n",
    "    print(\"Red Fort\")\n",
    "elif city ==\"Agra\":\n",
    "    print(\"Taj Mahal\")\n",
    "elif city==\"Jaipur\":\n",
    "    print(\"Jal Mahal\")\n",
    "else:\n",
    "    print(\"no data\")"
   ]
  },
  {
   "cell_type": "code",
   "execution_count": 11,
   "id": "cf27beb8-fb3e-4f94-8d63-a3dd16e4abf1",
   "metadata": {},
   "outputs": [],
   "source": [
    "#Q =4 Check how many times a given nuber can be diveded by 3 it is less than or equal to 10."
   ]
  },
  {
   "cell_type": "code",
   "execution_count": 12,
   "id": "e8a5c32f-bc52-43ad-a4f0-91a2d6aaee93",
   "metadata": {},
   "outputs": [],
   "source": [
    "#ANS\n",
    "def divide_by_3(number):\n",
    "    count = 0\n",
    "    while number > 10:\n",
    "        number = number / 3\n",
    "        count += 1\n",
    "    return count\n"
   ]
  },
  {
   "cell_type": "code",
   "execution_count": 13,
   "id": "1f52461f-23a1-46c5-8e96-25b6599915a5",
   "metadata": {},
   "outputs": [
    {
     "data": {
      "text/plain": [
       "2"
      ]
     },
     "execution_count": 13,
     "metadata": {},
     "output_type": "execute_result"
    }
   ],
   "source": [
    "divide_by_3(45)"
   ]
  },
  {
   "cell_type": "code",
   "execution_count": 14,
   "id": "be1b4702-7ffd-4f6b-ab1e-e510e62bd830",
   "metadata": {},
   "outputs": [],
   "source": [
    "# Q=5 Why and when to use while loop in python give a detailed description with example."
   ]
  },
  {
   "cell_type": "code",
   "execution_count": 15,
   "id": "1f68d13c-496a-4221-bcae-298a56e3d45b",
   "metadata": {},
   "outputs": [],
   "source": [
    "# Ans when we want to repeat a set till the specified condition is true at tha time we use while loop\n",
    "#For example we want to write table of 4"
   ]
  },
  {
   "cell_type": "code",
   "execution_count": 16,
   "id": "14a88397-f91b-4ab1-851d-507aa4af46c3",
   "metadata": {},
   "outputs": [
    {
     "name": "stdin",
     "output_type": "stream",
     "text": [
      "enter your number 4\n"
     ]
    },
    {
     "name": "stdout",
     "output_type": "stream",
     "text": [
      "4\n",
      "8\n",
      "12\n",
      "16\n",
      "20\n",
      "24\n",
      "28\n",
      "32\n",
      "36\n",
      "40\n"
     ]
    }
   ],
   "source": [
    "n=int(input(\"enter your number\"))\n",
    "i=1\n",
    "while i <=10:\n",
    "    result=n*i\n",
    "    print(result)\n",
    "    i=i+1"
   ]
  },
  {
   "cell_type": "code",
   "execution_count": 18,
   "id": "a04ce688-e930-4a76-81df-fe9809e130d0",
   "metadata": {},
   "outputs": [],
   "source": [
    "# Q=6 Use nested while loop to pring 3 different pattern."
   ]
  },
  {
   "cell_type": "code",
   "execution_count": 19,
   "id": "bf9f2788-9dda-4400-9780-67e4ffa82095",
   "metadata": {},
   "outputs": [],
   "source": [
    "#Ans\n"
   ]
  },
  {
   "cell_type": "code",
   "execution_count": 20,
   "id": "dea612e7-3d71-493f-b029-2152d49465e1",
   "metadata": {},
   "outputs": [],
   "source": [
    "#Q=7 Reverse a while loop to display numbers from 10 to 1."
   ]
  },
  {
   "cell_type": "code",
   "execution_count": 21,
   "id": "c402519f-524e-4955-b7ce-6dfe4098c878",
   "metadata": {},
   "outputs": [
    {
     "name": "stdout",
     "output_type": "stream",
     "text": [
      "10\n",
      "9\n",
      "8\n",
      "7\n",
      "6\n",
      "5\n",
      "4\n",
      "3\n",
      "2\n",
      "1\n"
     ]
    }
   ],
   "source": [
    "# Ans\n",
    "i=10\n",
    "while i >=1:\n",
    "    print(i)\n",
    "    i=i-1"
   ]
  },
  {
   "cell_type": "code",
   "execution_count": 22,
   "id": "b35b6981-852b-4332-86aa-5e17cd929adb",
   "metadata": {},
   "outputs": [],
   "source": [
    "# Q=8 Reverse a for loop to display numbers from 10 to 1."
   ]
  },
  {
   "cell_type": "code",
   "execution_count": 29,
   "id": "253fd0c1-0b70-40c3-b9a1-98644bddf0e3",
   "metadata": {},
   "outputs": [
    {
     "name": "stdout",
     "output_type": "stream",
     "text": [
      "10\n",
      "9\n",
      "8\n",
      "7\n",
      "6\n",
      "5\n",
      "4\n",
      "3\n",
      "2\n",
      "1\n"
     ]
    }
   ],
   "source": [
    "l=list(range(10,0,-1))\n",
    "l1=[]\n",
    "for i in l:\n",
    "    l1.append(i)\n",
    "    print(i)"
   ]
  },
  {
   "cell_type": "code",
   "execution_count": null,
   "id": "6fabf3e3-22f5-4614-925e-41502f6127a8",
   "metadata": {},
   "outputs": [],
   "source": []
  }
 ],
 "metadata": {
  "kernelspec": {
   "display_name": "Python 3 (ipykernel)",
   "language": "python",
   "name": "python3"
  },
  "language_info": {
   "codemirror_mode": {
    "name": "ipython",
    "version": 3
   },
   "file_extension": ".py",
   "mimetype": "text/x-python",
   "name": "python",
   "nbconvert_exporter": "python",
   "pygments_lexer": "ipython3",
   "version": "3.10.8"
  }
 },
 "nbformat": 4,
 "nbformat_minor": 5
}
